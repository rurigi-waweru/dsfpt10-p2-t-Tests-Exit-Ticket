{
 "cells": [
  {
   "cell_type": "markdown",
   "metadata": {},
   "source": [
    "# t-Tests-Exit-Ticket\n",
    "# -------------------"
   ]
  },
  {
   "cell_type": "markdown",
   "metadata": {},
   "source": [
    "# Question 1"
   ]
  },
  {
   "cell_type": "markdown",
   "metadata": {},
   "source": [
    "Suppose a skewed sample of snout lengths leads me to conclude that I've discovered a new species of alligator when in fact the alligators I've observed are not different in kind from previously accepted species. What sort of mistake have I made?\n",
    "\n",
    "> (i) A Type II error. \n",
    "\n",
    "> (ii) A false positive. \n",
    "\n",
    "> (iii) A true negative. \n",
    "\n",
    "> (iv) A measurement error. \n",
    "\n",
    "> (v) No error, since I applied the hypothesis test correctly."
   ]
  },
  {
   "cell_type": "markdown",
   "metadata": {},
   "source": [
    "## `Explanation`\n",
    "The mistake described is concluding that you've discovered a new species when, in reality, the alligators belong to an already known species. This means you've incorrectly rejected the null hypothesis (which would state that there is no new species).\n",
    "\n",
    "## This corresponds to:\n",
    "\n",
    "A Type I error, which is also known as a false positive (option ii).\n",
    "\n",
    "A Type I error occurs when we mistakenly reject a true null hypothesis—meaning we conclude there is an effect (a new species) when there actually isn't one.\n",
    "\n",
    "`Answer:`\n",
    "\n",
    "(ii) A false positive."
   ]
  },
  {
   "cell_type": "markdown",
   "metadata": {},
   "source": [
    "`SUMMARY`\n",
    "\n",
    "In hypothesis testing, we start with a null hypothesis (H₀), which in this case would state that the alligators you observed belong to a previously known species. The alternative hypothesis (H₁) would be that you've discovered a new species.\n",
    "\n",
    "By analyzing snout lengths, you conclude that the alligators are a new species, when in fact they are not. This means you have incorrectly rejected the null hypothesis, even though it was actually true.\n",
    "\n",
    "This kind of mistake is known as a Type I error, also called a false positive. A false positive occurs when we detect an effect (a new species) that does not actually exist.\n",
    "\n",
    "`Why is it not the other options?`\n",
    ">(i) A Type II error – This happens when we fail to reject a false null hypothesis (i.e., we do not detect a new species even though one actually exists). This is not the case here.\n",
    "\n",
    "> (iii) A true negative – This means correctly failing to reject the null hypothesis, which would mean recognizing that the alligators belong to an existing species. That is the opposite of what happened.\n",
    "\n",
    "> (iv) A measurement error – A skewed sample might contribute to a wrong conclusion, but a measurement error specifically refers to errors in data collection (e.g., using a faulty ruler). Your mistake is due to statistical inference, not measurement error.\n",
    "\n",
    "> (v) No error, since I applied the hypothesis test correctly – Even if the test was applied correctly, an incorrect conclusion still represents an error.\n",
    "\n",
    "`Final Answer:`\n",
    "\n",
    "(ii) A false positive (Type I error)."
   ]
  },
  {
   "cell_type": "markdown",
   "metadata": {},
   "source": [
    "# Question 2"
   ]
  },
  {
   "cell_type": "markdown",
   "metadata": {},
   "source": [
    "Suppose I want to compare a sample of twenty gizmos made at Factory B to a known population of gizmos made at Factory A. I know the mean and standard deviation of the Factory A gizmos. What sort of hypothesis test should I conduct?\n",
    "\n",
    "> [i] A z-test since I know the population parameters.\n",
    "\n",
    "> [ii] A t-test since I can calculate the sample statistics.\n",
    "\n",
    "> [iii] A t-test since I have a sample size less than 30.\n",
    "\n",
    "> [iv] A z-test since I can expect a normally distributed variable here.\n",
    "\n",
    "> [v] A t-test, provided there is no significant difference between the sample and the population means."
   ]
  },
  {
   "cell_type": "markdown",
   "metadata": {},
   "source": [
    "### Analyzing the Question\n",
    "You want to compare a sample of 20 gizmos from Factory B to a known population of gizmos from Factory A, and you already know the mean and standard deviation of the Factory A population.\n",
    "\n",
    "### Choosing the Correct Test\n",
    "When to use a z-test?\n",
    "\n",
    "A z-test is used when comparing a sample mean to a population mean and the population standard deviation is known.\n",
    "It assumes that the sample follows a normal distribution (which is reasonable for large samples due to the Central Limit Theorem).\n",
    "When to use a t-test?\n",
    "\n",
    "A t-test is used when the sample size is small (n < 30) and the population standard deviation is unknown, requiring the use of the sample standard deviation instead.\n",
    "\n",
    "`Applying This to the Question`\n",
    "\n",
    "You are comparing a sample (n = 20) to a known population.\n",
    "You know the population mean and standard deviation.\n",
    "Since the population standard deviation is known, a z-test is appropriate regardless of the sample size.\n",
    "\n",
    "`Correct Answer:`\n",
    "\n",
    "✅ \"A z-test since I know the population parameters.\""
   ]
  }
 ],
 "metadata": {
  "language_info": {
   "name": "python"
  }
 },
 "nbformat": 4,
 "nbformat_minor": 2
}
